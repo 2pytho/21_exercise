{
 "cells": [
  {
   "cell_type": "code",
   "execution_count": 1,
   "metadata": {
    "ExecuteTime": {
     "end_time": "2019-02-18T09:21:22.784926Z",
     "start_time": "2019-02-18T09:21:21.844105Z"
    }
   },
   "outputs": [
    {
     "name": "stdout",
     "output_type": "stream",
     "text": [
      "最终结果: w: [-3, 4]b: 1\n",
      "参数w,b更新过程： [[[1, 2], 1], [[-2, 1], 0], [[-1, 3], 1], [[-4, 2], 0], [[-3, 4], 1]]\n"
     ]
    },
    {
     "data": {
      "text/plain": [
       "<matplotlib.figure.Figure at 0x10b3bb208>"
      ]
     },
     "metadata": {},
     "output_type": "display_data"
    }
   ],
   "source": [
    "import copy\n",
    "from matplotlib import pyplot as plt\n",
    "from matplotlib import animation\n",
    "\n",
    "training_set = [[(1, 2), 1], [(2, 3), 1], [(3, 1), -1], [(4, 2), -1]]  # 训练数据集\n",
    "w = [0, 0]  # 参数初始化\n",
    "b = 0\n",
    "history = []  # 用来记录每次更新过后的w,b\n",
    "\n",
    "\n",
    "def update(item):\n",
    "    \"\"\"\n",
    "    随机梯度下降更新参数\n",
    "    :param item: 参数是分类错误的点\n",
    "    :return: nothing 无返回值\n",
    "    \"\"\"\n",
    "    global w, b, history  # 把w, b, history声明为全局变量\n",
    "    w[0] += 1 * item[1] * item[0][0]  # 根据误分类点更新参数,这里学习效率设为1\n",
    "    w[1] += 1 * item[1] * item[0][1]\n",
    "    b += 1 * item[1]\n",
    "    history.append([copy.copy(w), b])  # 将每次更新过后的w,b记录在history数组中\n",
    "\n",
    "\n",
    "def cal(item):\n",
    "    \"\"\"\n",
    "    计算item到超平面的距离,输出yi(w*xi+b)\n",
    "    （我们要根据这个结果来判断一个点是否被分类错了。如果yi(w*xi+b)>0,则分类错了）\n",
    "    :param item:\n",
    "    :return:\n",
    "    \"\"\"\n",
    "    res = 0\n",
    "    for i in range(len(item[0])):  # 迭代item的每个坐标，对于本文数据则有两个坐标x1和x2\n",
    "        res += item[0][i] * w[i]\n",
    "    res += b\n",
    "    res *= item[1]  # 这里是乘以公式中的yi\n",
    "    return res\n",
    "\n",
    "\n",
    "def check():\n",
    "    \"\"\"\n",
    "    检查超平面是否已将样本正确分类\n",
    "    :return: true如果已正确分类则返回True\n",
    "    \"\"\"\n",
    "    flag = False\n",
    "    for item in training_set:\n",
    "        if cal(item) <= 0:  # 如果有分类错误的\n",
    "            flag = True  # 将flag设为True\n",
    "            update(item)  # 用误分类点更新参数\n",
    "    if not flag:  # 如果没有分类错误的点了\n",
    "        print(\"最终结果: w: \" + str(w) + \"b: \" + str(b))  # 输出达到正确结果时参数的值\n",
    "    return flag  # 如果已正确分类则返回True,否则返回False\n",
    "\n",
    "\n",
    "if __name__ == \"__main__\":\n",
    "    for i in range(1000):  # 迭代1000遍\n",
    "        if not check(): break  # 如果已正确分类，则结束迭代\n",
    "    # 以下代码是将迭代过程可视化\n",
    "    # 首先建立我们想要做成动画的图像figure, 坐标轴axis,和plot element\n",
    "    fig = plt.figure()\n",
    "    ax = plt.axes(xlim=(0, 2), ylim=(-2, 2))\n",
    "    line, = ax.plot([], [], 'g', lw=2)  # 画一条线\n",
    "    label = ax.text([], [], '')\n",
    "\n",
    "\n",
    "    def init():\n",
    "        line.set_data([], [])\n",
    "        x, y, x_, y_ = [], [], [], []\n",
    "        for p in training_set:\n",
    "            if p[1] > 0:\n",
    "                x.append(p[0][0])  # 存放yi=1的点的x1坐标\n",
    "                y.append(p[0][1])  # 存放yi=1的点的x2坐标\n",
    "            else:\n",
    "                x_.append(p[0][0])  # 存放yi=-1的点的x1坐标\n",
    "                y_.append(p[0][1])  # 存放yi=-1的点的x2坐标\n",
    "        plt.plot(x, y, 'bo', x_, y_, 'rx')  # 在图里yi=1的点用点表示，yi=-1的点用叉表示\n",
    "        plt.axis([-6, 6, -6, 6])  # 横纵坐标上下限\n",
    "        plt.grid(True)  # 显示网格\n",
    "        plt.xlabel('x1')  # 这里我修改了原文表示\n",
    "        plt.ylabel('x2')  # 为了和原理中表达方式一致，横纵坐标应该是x1,x2\n",
    "        plt.title('Perceptron Algorithm (www.hankcs.com)')  # 给图一个标题：感知机算法\n",
    "        return line, label\n",
    "\n",
    "    def animate(i):\n",
    "        global history, ax, line, label\n",
    "        w = history[i][0]\n",
    "        b = history[i][1]\n",
    "        if w[1] == 0: return line, label\n",
    "        # 因为图中坐标上下限为-6~6，所以我们在横坐标为-7和7的两个点之间画一条线就够了，这里代码中的xi,yi其实是原理中的x1,x2\n",
    "        x1 = -7\n",
    "        y1 = -(b + w[0] * x1) / w[1]\n",
    "        x2 = 7\n",
    "        y2 = -(b + w[0] * x2) / w[1]\n",
    "        line.set_data([x1, x2], [y1, y2])  # 设置线的两个点\n",
    "        x1 = 0\n",
    "        y1 = -(b + w[0] * x1) / w[1]\n",
    "        label.set_text(history[i])\n",
    "        label.set_position([x1, y1])\n",
    "        return line, label\n",
    "\n",
    "\n",
    "    print(\"参数w,b更新过程：\", history)\n",
    "    anim = animation.FuncAnimation(fig, animate, init_func=init, frames=len(history), interval=1000, repeat=True,\n",
    "                                   blit=True)\n",
    "    plt.show()"
   ]
  },
  {
   "cell_type": "code",
   "execution_count": null,
   "metadata": {},
   "outputs": [],
   "source": []
  }
 ],
 "metadata": {
  "kernelspec": {
   "display_name": "Python 3",
   "language": "python",
   "name": "python3"
  },
  "language_info": {
   "codemirror_mode": {
    "name": "ipython",
    "version": 3
   },
   "file_extension": ".py",
   "mimetype": "text/x-python",
   "name": "python",
   "nbconvert_exporter": "python",
   "pygments_lexer": "ipython3",
   "version": "3.6.4"
  }
 },
 "nbformat": 4,
 "nbformat_minor": 2
}

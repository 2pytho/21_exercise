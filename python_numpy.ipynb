{
 "cells": [
  {
   "cell_type": "markdown",
   "metadata": {},
   "source": [
    "# numpy \n",
    "[numpy](http://www.runoob.com/numpy/numpy-statistical-functions.html)"
   ]
  },
  {
   "cell_type": "code",
   "execution_count": 2,
   "metadata": {
    "ExecuteTime": {
     "end_time": "2019-02-19T08:02:06.453555Z",
     "start_time": "2019-02-19T08:02:06.451116Z"
    }
   },
   "outputs": [],
   "source": [
    "import numpy as np\n"
   ]
  },
  {
   "cell_type": "code",
   "execution_count": 11,
   "metadata": {
    "ExecuteTime": {
     "end_time": "2019-02-19T08:08:32.538976Z",
     "start_time": "2019-02-19T08:08:32.534539Z"
    }
   },
   "outputs": [
    {
     "name": "stdout",
     "output_type": "stream",
     "text": [
      "[1 2 3]\n",
      "(3,)\n"
     ]
    }
   ],
   "source": [
    "a = np.array([1,2,3])\n",
    "print(a)\n",
    "\n",
    "print(a.shape)"
   ]
  },
  {
   "cell_type": "code",
   "execution_count": 8,
   "metadata": {
    "ExecuteTime": {
     "end_time": "2019-02-19T08:07:49.111951Z",
     "start_time": "2019-02-19T08:07:49.107386Z"
    }
   },
   "outputs": [
    {
     "name": "stdout",
     "output_type": "stream",
     "text": [
      "(2, 3)\n",
      "[[1 2 3]\n",
      " [4 5 6]]\n"
     ]
    }
   ],
   "source": [
    "a = np.array([1,2,3,4,5,6]).reshape(2,3)\n",
    "print(a.shape)\n",
    "print(a)"
   ]
  },
  {
   "cell_type": "code",
   "execution_count": 14,
   "metadata": {
    "ExecuteTime": {
     "end_time": "2019-02-19T08:14:14.580610Z",
     "start_time": "2019-02-19T08:14:14.575858Z"
    },
    "scrolled": true
   },
   "outputs": [
    {
     "name": "stdout",
     "output_type": "stream",
     "text": [
      "<class 'tuple'>\n",
      "<class 'int'>\n",
      "(3,)\n",
      "3\n"
     ]
    }
   ],
   "source": [
    "a=(3,)\n",
    "b=(3)\n",
    "print(type(a))\n",
    "print(type(b))\n",
    "print(a)\n",
    "print(b)\n"
   ]
  },
  {
   "cell_type": "markdown",
   "metadata": {},
   "source": [
    "# 创建"
   ]
  },
  {
   "cell_type": "code",
   "execution_count": 17,
   "metadata": {
    "ExecuteTime": {
     "end_time": "2019-02-19T08:16:22.375612Z",
     "start_time": "2019-02-19T08:16:22.372162Z"
    },
    "scrolled": true
   },
   "outputs": [
    {
     "name": "stdout",
     "output_type": "stream",
     "text": [
      "[[1 2]\n",
      " [3 4]\n",
      " [5 6]]\n"
     ]
    }
   ],
   "source": [
    "#指定大小,未初始化\n",
    "x=np.empty([3,2],dtype=int)\n",
    "print(x)"
   ]
  },
  {
   "cell_type": "code",
   "execution_count": 20,
   "metadata": {
    "ExecuteTime": {
     "end_time": "2019-02-19T08:18:44.423497Z",
     "start_time": "2019-02-19T08:18:44.417241Z"
    }
   },
   "outputs": [
    {
     "name": "stdout",
     "output_type": "stream",
     "text": [
      "[[0 0]\n",
      " [0 0]\n",
      " [0 0]]\n",
      "[[0. 0.]\n",
      " [0. 0.]\n",
      " [0. 0.]]\n",
      "[[1. 1.]\n",
      " [1. 1.]\n",
      " [1. 1.]]\n"
     ]
    }
   ],
   "source": [
    "# 默认为浮点数\n",
    "x=np.zeros([3,2],dtype=int)\n",
    "print(x)\n",
    "x=np.zeros([3,2])\n",
    "print(x)\n",
    "\n",
    "x=np.ones([3,2])\n",
    "print(x)"
   ]
  },
  {
   "cell_type": "code",
   "execution_count": 22,
   "metadata": {
    "ExecuteTime": {
     "end_time": "2019-02-19T08:23:19.725713Z",
     "start_time": "2019-02-19T08:23:19.719625Z"
    }
   },
   "outputs": [
    {
     "name": "stdout",
     "output_type": "stream",
     "text": [
      "[1 2 3]\n",
      "[1 2 3]\n"
     ]
    }
   ],
   "source": [
    "#已有创建\n",
    "n = np.array([1,2,3])\n",
    "print(n)\n",
    "# M 快捷 Markdown\n",
    "# Y 快捷 code\n",
    "n = np.asarray([1,2,3])\n",
    "print(n)"
   ]
  },
  {
   "cell_type": "markdown",
   "metadata": {},
   "source": [
    "## 数值范围创建"
   ]
  },
  {
   "cell_type": "code",
   "execution_count": 28,
   "metadata": {
    "ExecuteTime": {
     "end_time": "2019-02-19T08:27:25.860210Z",
     "start_time": "2019-02-19T08:27:25.852307Z"
    }
   },
   "outputs": [
    {
     "name": "stdout",
     "output_type": "stream",
     "text": [
      "[0 1 2 3 4 5 6 7 8 9]\n",
      "[0. 1. 2. 3. 4. 5. 6. 7. 8. 9.]\n",
      "[0 1 2 3 4 5 6 7 8 9]\n",
      "[10 15]\n"
     ]
    }
   ],
   "source": [
    "#未指定类型,根据输入类型\n",
    "a = np.arange(0,10,1)\n",
    "print(a)\n",
    "a = np.arange(0.,10,1)\n",
    "print(a)\n",
    "a = np.arange(10)\n",
    "print(a)\n",
    "a = np.arange(10,20,5)\n",
    "print(a)"
   ]
  },
  {
   "cell_type": "code",
   "execution_count": 32,
   "metadata": {
    "ExecuteTime": {
     "end_time": "2019-02-19T08:30:40.565511Z",
     "start_time": "2019-02-19T08:30:40.559903Z"
    }
   },
   "outputs": [
    {
     "name": "stdout",
     "output_type": "stream",
     "text": [
      "[ 10.   32.5  55.   77.5 100. ]\n",
      "[10. 28. 46. 64. 82.]\n"
     ]
    }
   ],
   "source": [
    "x = np.linspace(10,100,5)\n",
    "print(x)\n",
    "x = np.linspace(10,100,5,endpoint=False)\n",
    "print(x)"
   ]
  },
  {
   "cell_type": "code",
   "execution_count": 39,
   "metadata": {
    "ExecuteTime": {
     "end_time": "2019-02-19T08:34:48.468286Z",
     "start_time": "2019-02-19T08:34:48.464271Z"
    }
   },
   "outputs": [
    {
     "name": "stdout",
     "output_type": "stream",
     "text": [
      "[2. 4. 8.]\n"
     ]
    }
   ],
   "source": [
    "y = np.logspace(1,3,num=3,base=2)\n",
    "print(y)"
   ]
  },
  {
   "cell_type": "markdown",
   "metadata": {},
   "source": [
    "# 随机数创建\n",
    "https://www.cnblogs.com/lemonbit/p/6864179.html"
   ]
  },
  {
   "cell_type": "code",
   "execution_count": 43,
   "metadata": {
    "ExecuteTime": {
     "end_time": "2019-02-19T08:43:51.618084Z",
     "start_time": "2019-02-19T08:43:51.613592Z"
    }
   },
   "outputs": [
    {
     "name": "stdout",
     "output_type": "stream",
     "text": [
      "[0.88406919 0.49198972 0.47541781 0.39963491 0.13005213 0.38158067\n",
      " 0.30534001 0.00766936 0.23977698]\n",
      "[[[0.26901666 0.0678413  0.81633089 0.52092997]\n",
      "  [0.25471144 0.68316983 0.11761108 0.31707516]\n",
      "  [0.06715052 0.13632326 0.29402092 0.42071678]]\n",
      "\n",
      " [[0.26376685 0.24538609 0.77289597 0.68736087]\n",
      "  [0.25336537 0.80363742 0.85356151 0.84131533]\n",
      "  [0.53664871 0.82810375 0.72893539 0.07074901]]]\n"
     ]
    }
   ],
   "source": [
    "# 0<=x<1\n",
    "x = np.random.rand(9)\n",
    "print(x)\n",
    "x = np.random.rand(2,3,4)\n",
    "print(x)"
   ]
  },
  {
   "cell_type": "code",
   "execution_count": null,
   "metadata": {},
   "outputs": [],
   "source": []
  }
 ],
 "metadata": {
  "kernelspec": {
   "display_name": "Python 3",
   "language": "python",
   "name": "python3"
  },
  "language_info": {
   "codemirror_mode": {
    "name": "ipython",
    "version": 3
   },
   "file_extension": ".py",
   "mimetype": "text/x-python",
   "name": "python",
   "nbconvert_exporter": "python",
   "pygments_lexer": "ipython3",
   "version": "3.6.4"
  }
 },
 "nbformat": 4,
 "nbformat_minor": 2
}

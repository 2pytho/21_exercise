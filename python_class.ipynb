{
 "cells": [
  {
   "cell_type": "markdown",
   "metadata": {},
   "source": [
    "# python class exercise\n",
    "class  类名字  object(类名)   所有类最终都会继承的类\n",
    "__init__  初始化方法\n",
    "\n"
   ]
  },
  {
   "cell_type": "code",
   "execution_count": 15,
   "metadata": {
    "ExecuteTime": {
     "end_time": "2019-02-14T02:26:46.383251Z",
     "start_time": "2019-02-14T02:26:46.377968Z"
    }
   },
   "outputs": [
    {
     "name": "stdout",
     "output_type": "stream",
     "text": [
      "sunxuyuan\n",
      "A\n"
     ]
    }
   ],
   "source": [
    "class Student(object):\n",
    "    def __init__(self,name=\"no\",score=99):\n",
    "        self.name = name\n",
    "        self.__score = score\n",
    "    def print_score(self):\n",
    "        print(\"%s:%s\"%(self.name,self.__score))\n",
    "    def get_grade(self):\n",
    "        if self.__score>=90:\n",
    "            return \"A\"\n",
    "        elif self.__score>=60:\n",
    "            return \"B\"\n",
    "        else:\n",
    "            return \"C\"\n",
    "sxy = Student(\"sunxuyuan\")\n",
    "yj = Student(\"youjie\",100)\n",
    "#sxy.print_score()\n",
    "#yj.print_score()\n",
    "\n",
    "print(sxy.name)\n",
    "\n",
    "#print(sxy.__score)  \n",
    "\n",
    "print(sxy.get_grade())"
   ]
  },
  {
   "cell_type": "markdown",
   "metadata": {},
   "source": [
    "# 继承\n"
   ]
  },
  {
   "cell_type": "code",
   "execution_count": 16,
   "metadata": {
    "ExecuteTime": {
     "end_time": "2019-02-14T02:29:34.375855Z",
     "start_time": "2019-02-14T02:29:34.372480Z"
    }
   },
   "outputs": [
    {
     "name": "stdout",
     "output_type": "stream",
     "text": [
      "Animal running\n"
     ]
    }
   ],
   "source": [
    "class Animal(object):\n",
    "    def run(self):\n",
    "        print(\"Animal running\")\n",
    "class Cat(Animal):\n",
    "    pass\n",
    "cat = Cat()\n",
    "cat.run()\n"
   ]
  },
  {
   "cell_type": "code",
   "execution_count": 17,
   "metadata": {
    "ExecuteTime": {
     "end_time": "2019-02-14T02:30:09.923096Z",
     "start_time": "2019-02-14T02:30:09.919186Z"
    }
   },
   "outputs": [
    {
     "name": "stdout",
     "output_type": "stream",
     "text": [
      "Cat running\n"
     ]
    }
   ],
   "source": [
    "class Animal(object):\n",
    "    def run(self):\n",
    "        print(\"Animal running\")\n",
    "class Cat(Animal):\n",
    "    def run(self):\n",
    "        print(\"Cat running\")\n",
    "cat = Cat()\n",
    "cat.run()"
   ]
  },
  {
   "cell_type": "markdown",
   "metadata": {},
   "source": [
    "# 实例属性 和 例属性\n"
   ]
  }
 ],
 "metadata": {
  "kernelspec": {
   "display_name": "Python 3",
   "language": "python",
   "name": "python3"
  },
  "language_info": {
   "codemirror_mode": {
    "name": "ipython",
    "version": 3
   },
   "file_extension": ".py",
   "mimetype": "text/x-python",
   "name": "python",
   "nbconvert_exporter": "python",
   "pygments_lexer": "ipython3",
   "version": "3.6.5"
  }
 },
 "nbformat": 4,
 "nbformat_minor": 2
}

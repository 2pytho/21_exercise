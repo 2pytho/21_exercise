{
 "cells": [
  {
   "cell_type": "markdown",
   "metadata": {},
   "source": [
    "# if else\n",
    "if else 几种用法\n",
    "\n",
    "a , b ,c = 1 , 2 , 3\n",
    "if a>b:\n",
    "    c=a\n",
    "else:\n",
    "    c=b"
   ]
  },
  {
   "cell_type": "code",
   "execution_count": 1,
   "metadata": {
    "ExecuteTime": {
     "end_time": "2019-02-13T08:56:50.643817Z",
     "start_time": "2019-02-13T08:56:50.638588Z"
    }
   },
   "outputs": [
    {
     "name": "stdout",
     "output_type": "stream",
     "text": [
      "2\n"
     ]
    }
   ],
   "source": [
    "a , b , c = 1,2,3\n",
    "if a>b:\n",
    "    c = a\n",
    "else:\n",
    "    c = b\n",
    "print(c)"
   ]
  },
  {
   "cell_type": "code",
   "execution_count": 2,
   "metadata": {
    "ExecuteTime": {
     "end_time": "2019-02-13T08:57:48.666543Z",
     "start_time": "2019-02-13T08:57:48.662828Z"
    }
   },
   "outputs": [
    {
     "name": "stdout",
     "output_type": "stream",
     "text": [
      "5\n"
     ]
    }
   ],
   "source": [
    "# 表达式\n",
    "a , b , c = 1,2,3\n",
    "c = 4 if a>b else 5\n",
    "print(c)"
   ]
  },
  {
   "cell_type": "markdown",
   "metadata": {},
   "source": [
    "## python 默认 True 1 False 0 "
   ]
  },
  {
   "cell_type": "code",
   "execution_count": 3,
   "metadata": {
    "ExecuteTime": {
     "end_time": "2019-02-13T08:59:06.751248Z",
     "start_time": "2019-02-13T08:59:06.747701Z"
    }
   },
   "outputs": [
    {
     "name": "stdout",
     "output_type": "stream",
     "text": [
      "2\n"
     ]
    }
   ],
   "source": [
    "# 二维列表\n",
    "a , b , c = 1,2,3\n",
    "c = [a,b][a>b]\n",
    "print(c)"
   ]
  },
  {
   "cell_type": "code",
   "execution_count": null,
   "metadata": {},
   "outputs": [],
   "source": [
    "## 逻辑运算符\n",
    "and\n",
    "or\n",
    "\n",
    "and: x and y \n",
    "    返回的结果是决定表达式结果的值。\n",
    "    根据\"短路\"原则当x为真时决定表达式的真假由y的值决定，所有返回y;如果x为假则不进行y的判断，返回x。\n",
    "or: x or y 当x为真直接返回x的值；当x为假、y为真时返回y的值；当全为假时返回y的值"
   ]
  },
  {
   "cell_type": "code",
   "execution_count": 5,
   "metadata": {
    "ExecuteTime": {
     "end_time": "2019-02-13T09:05:26.699559Z",
     "start_time": "2019-02-13T09:05:26.695227Z"
    }
   },
   "outputs": [
    {
     "name": "stdout",
     "output_type": "stream",
     "text": [
      "2\n"
     ]
    }
   ],
   "source": [
    "# 高级\n",
    "a , b , c = 1,2,3\n",
    "c=(a>b and [a] or [b])[0]\n",
    "print(c)\n"
   ]
  },
  {
   "cell_type": "markdown",
   "metadata": {},
   "source": [
    "# 列表生成器"
   ]
  },
  {
   "cell_type": "code",
   "execution_count": 1,
   "metadata": {
    "ExecuteTime": {
     "end_time": "2019-02-13T10:14:41.821549Z",
     "start_time": "2019-02-13T10:14:41.809667Z"
    }
   },
   "outputs": [
    {
     "data": {
      "text/plain": [
       "[4, 16, 36, 64]"
      ]
     },
     "execution_count": 1,
     "metadata": {},
     "output_type": "execute_result"
    }
   ],
   "source": [
    "[x*x for x in range(1,10) if x%2==0 ]"
   ]
  },
  {
   "cell_type": "code",
   "execution_count": 4,
   "metadata": {
    "ExecuteTime": {
     "end_time": "2019-02-13T10:15:57.138008Z",
     "start_time": "2019-02-13T10:15:57.133116Z"
    }
   },
   "outputs": [
    {
     "data": {
      "text/plain": [
       "[4, 16, 36, 64]"
      ]
     },
     "execution_count": 4,
     "metadata": {},
     "output_type": "execute_result"
    }
   ],
   "source": [
    "[x*x for x in range(1,10) if x%2==0]"
   ]
  },
  {
   "cell_type": "code",
   "execution_count": 6,
   "metadata": {
    "ExecuteTime": {
     "end_time": "2019-02-13T10:17:04.835892Z",
     "start_time": "2019-02-13T10:17:04.831355Z"
    }
   },
   "outputs": [
    {
     "data": {
      "text/plain": [
       "['a1', 'a2', 'b1', 'b2', 'c1', 'c2']"
      ]
     },
     "execution_count": 6,
     "metadata": {},
     "output_type": "execute_result"
    }
   ],
   "source": [
    "[ m+n for m in 'abc' for n in '12']"
   ]
  },
  {
   "cell_type": "markdown",
   "metadata": {},
   "source": [
    "# 生成器\n",
    "generator \n"
   ]
  },
  {
   "cell_type": "code",
   "execution_count": 10,
   "metadata": {
    "ExecuteTime": {
     "end_time": "2019-02-13T10:22:49.847591Z",
     "start_time": "2019-02-13T10:22:49.843395Z"
    }
   },
   "outputs": [
    {
     "name": "stdout",
     "output_type": "stream",
     "text": [
      "1\t4\t9\t16\t\n"
     ]
    }
   ],
   "source": [
    "g = (x*x for x in range(1,5))\n",
    "for n in g:\n",
    "    print(\"%d\\t\"%n,end='')\n",
    "print()\n"
   ]
  },
  {
   "cell_type": "code",
   "execution_count": 11,
   "metadata": {
    "ExecuteTime": {
     "end_time": "2019-02-13T10:29:04.941637Z",
     "start_time": "2019-02-13T10:29:04.936399Z"
    }
   },
   "outputs": [
    {
     "name": "stdout",
     "output_type": "stream",
     "text": [
      "1\t1\t2\t3\t5\t8\t13\t21\t34\t55\t"
     ]
    }
   ],
   "source": [
    "# 1,1,2,3,5,8,13\n",
    "def fib(max):\n",
    "    n,a,b=0,0,1\n",
    "    while n<max:\n",
    "        yield b\n",
    "        a,b = b , a+b\n",
    "        n = n+1\n",
    "    return 'done'\n",
    "f = fib(10)\n",
    "for n in f:\n",
    "    print(\"%d\\t\"%n,end='')"
   ]
  },
  {
   "cell_type": "code",
   "execution_count": null,
   "metadata": {},
   "outputs": [],
   "source": []
  }
 ],
 "metadata": {
  "kernelspec": {
   "display_name": "Python 3",
   "language": "python",
   "name": "python3"
  },
  "language_info": {
   "codemirror_mode": {
    "name": "ipython",
    "version": 3
   },
   "file_extension": ".py",
   "mimetype": "text/x-python",
   "name": "python",
   "nbconvert_exporter": "python",
   "pygments_lexer": "ipython3",
   "version": "3.6.5"
  }
 },
 "nbformat": 4,
 "nbformat_minor": 2
}

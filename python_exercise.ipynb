{
 "cells": [
  {
   "cell_type": "markdown",
   "metadata": {},
   "source": [
    "# if else\n",
    "if else 几种用法\n",
    "\n",
    "a , b ,c = 1 , 2 , 3\n",
    "if a>b:\n",
    "    c=a\n",
    "else:\n",
    "    c=b"
   ]
  },
  {
   "cell_type": "code",
   "execution_count": 1,
   "metadata": {
    "ExecuteTime": {
     "end_time": "2019-02-13T08:56:50.643817Z",
     "start_time": "2019-02-13T08:56:50.638588Z"
    }
   },
   "outputs": [
    {
     "name": "stdout",
     "output_type": "stream",
     "text": [
      "2\n"
     ]
    }
   ],
   "source": [
    "a , b , c = 1,2,3\n",
    "if a>b:\n",
    "    c = a\n",
    "else:\n",
    "    c = b\n",
    "print(c)"
   ]
  },
  {
   "cell_type": "code",
   "execution_count": 2,
   "metadata": {
    "ExecuteTime": {
     "end_time": "2019-02-13T08:57:48.666543Z",
     "start_time": "2019-02-13T08:57:48.662828Z"
    }
   },
   "outputs": [
    {
     "name": "stdout",
     "output_type": "stream",
     "text": [
      "5\n"
     ]
    }
   ],
   "source": [
    "# 表达式\n",
    "a , b , c = 1,2,3\n",
    "c = 4 if a>b else 5\n",
    "print(c)"
   ]
  },
  {
   "cell_type": "markdown",
   "metadata": {},
   "source": [
    "## python 默认 True 1 False 0 "
   ]
  },
  {
   "cell_type": "code",
   "execution_count": 3,
   "metadata": {
    "ExecuteTime": {
     "end_time": "2019-02-13T08:59:06.751248Z",
     "start_time": "2019-02-13T08:59:06.747701Z"
    }
   },
   "outputs": [
    {
     "name": "stdout",
     "output_type": "stream",
     "text": [
      "2\n"
     ]
    }
   ],
   "source": [
    "# 二维列表\n",
    "a , b , c = 1,2,3\n",
    "c = [a,b][a>b]\n",
    "print(c)"
   ]
  },
  {
   "cell_type": "code",
   "execution_count": null,
   "metadata": {},
   "outputs": [],
   "source": [
    "## 逻辑运算符\n",
    "and\n",
    "or\n",
    "\n",
    "and: x and y \n",
    "    返回的结果是决定表达式结果的值。\n",
    "    根据\"短路\"原则当x为真时决定表达式的真假由y的值决定，所有返回y;如果x为假则不进行y的判断，返回x。\n",
    "or: x or y 当x为真直接返回x的值；当x为假、y为真时返回y的值；当全为假时返回y的值"
   ]
  },
  {
   "cell_type": "code",
   "execution_count": 5,
   "metadata": {
    "ExecuteTime": {
     "end_time": "2019-02-13T09:05:26.699559Z",
     "start_time": "2019-02-13T09:05:26.695227Z"
    }
   },
   "outputs": [
    {
     "name": "stdout",
     "output_type": "stream",
     "text": [
      "2\n"
     ]
    }
   ],
   "source": [
    "# 高级\n",
    "a , b , c = 1,2,3\n",
    "c=(a>b and [a] or [b])[0]\n",
    "print(c)\n"
   ]
  },
  {
   "cell_type": "code",
   "execution_count": null,
   "metadata": {},
   "outputs": [],
   "source": []
  }
 ],
 "metadata": {
  "kernelspec": {
   "display_name": "Python 3",
   "language": "python",
   "name": "python3"
  },
  "language_info": {
   "codemirror_mode": {
    "name": "ipython",
    "version": 3
   },
   "file_extension": ".py",
   "mimetype": "text/x-python",
   "name": "python",
   "nbconvert_exporter": "python",
   "pygments_lexer": "ipython3",
   "version": "3.6.5"
  }
 },
 "nbformat": 4,
 "nbformat_minor": 2
}
